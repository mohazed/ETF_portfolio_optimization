{
  "nbformat": 4,
  "nbformat_minor": 0,
  "metadata": {
    "colab": {
      "provenance": []
    },
    "kernelspec": {
      "name": "python3",
      "display_name": "Python 3"
    },
    "language_info": {
      "name": "python"
    }
  },
  "cells": [
    {
      "cell_type": "markdown",
      "source": [
        "# **ETF Portfolio Optimization**\n"
      ],
      "metadata": {
        "id": "ylpmgLMzx8hk"
      }
    },
    {
      "cell_type": "markdown",
      "source": [
        "## **Introduction**\n",
        "\n",
        "We aim to optimize a portfolio of Exchange-Traded Funds (ETFs) using various financial and sustainability metrics. The primary objectives of this project include maximizing returns, minimizing risk, capturing momentum, emphasizing ESG (Environmental, Social, and Governance) scores, and ensuring diversification through the Herfindahl-Hirschman Index (HH Index).\n",
        "\n",
        "This notebook details every step, starting with data extraction, metric calculations, normalization, and portfolio optimization. By the end, we will have an optimized portfolio tailored to meet specified investment objectives.\n"
      ],
      "metadata": {
        "id": "B9GHUNR3x9Ps"
      }
    },
    {
      "cell_type": "code",
      "source": [
        "# Importing Libraries\n",
        "import yfinance as yf\n",
        "import pandas as pd\n",
        "import numpy as np\n",
        "from scipy.optimize import minimize\n",
        "import matplotlib.pyplot as plt\n"
      ],
      "metadata": {
        "id": "V2Z_DdsRx6fi"
      },
      "execution_count": 23,
      "outputs": []
    },
    {
      "cell_type": "markdown",
      "source": [
        "## **Step 1: Define ETF List and Time Range**\n",
        "\n",
        "We define the list of ETFs to analyze and the time range for collecting historical data. The selected ETFs represent various sectors, regions, and investment styles to ensure broad diversification.\n"
      ],
      "metadata": {
        "id": "Oazza1xwyEO2"
      }
    },
    {
      "cell_type": "code",
      "source": [
        "# Comprehensive list of ETFs\n",
        "etf_list = [\n",
        "    \"SPY\", \"IVV\", \"VOO\", \"QQQ\", \"DIA\", \"IWM\", \"VTI\", \"SCHB\", \"ITOT\", \"VEA\",\n",
        "    \"EFA\", \"IEFA\", \"VWO\", \"EEM\", \"IEMG\", \"AGG\", \"BND\", \"LQD\", \"HYG\", \"JNK\",\n",
        "    \"BSV\", \"BIV\", \"BLV\", \"TIP\", \"VTIP\", \"MUB\", \"TLT\", \"SHY\", \"GLD\", \"IAU\",\n",
        "    \"SLV\", \"PPLT\", \"PALL\", \"USO\", \"UNG\", \"XLE\", \"XLF\", \"XLK\", \"XLY\", \"XLP\",\n",
        "    \"XLI\", \"XLB\", \"XLV\", \"XLU\", \"XLRE\", \"VNQ\", \"IYR\", \"REM\", \"SCHH\", \"VNQI\",\n",
        "    \"RWX\", \"RWO\", \"VIG\", \"VYM\", \"DVY\", \"SDY\", \"SCHD\", \"NOBL\", \"SPHD\", \"DGRW\",\n",
        "    \"FDVV\", \"DLN\", \"EFG\", \"EFV\", \"VLUE\", \"MTUM\", \"QUAL\", \"GSLC\", \"USMV\", \"SPLV\",\n",
        "    \"VTV\", \"VOE\", \"VBR\", \"IJS\", \"IJR\", \"IJH\", \"MDY\", \"IJJ\", \"IJT\", \"IJK\",\n",
        "    \"SCZ\", \"EFAS\", \"FXE\", \"UUP\", \"FXB\", \"FXF\", \"FXY\", \"DBV\", \"EWJ\", \"EWW\",\n",
        "    \"EWA\", \"EWC\", \"EWZ\", \"EEM\", \"RSX\", \"EWY\", \"THD\", \"EIDO\", \"TUR\", \"URTH\"\n",
        "]\n",
        "\n",
        "# Predefined estimation of ESG scores, given by generative AI because exact values are not free to access\n",
        "esg_scores = [80.56, 68.61, 77.02, 79.66, 78.42, 69.72, 81.37, 78.39, 81.15, 75.35,\n",
        "              74.54, 81.13, 84.09, 81.49, 66.41, 76.59, 72.03, 74.77, 66.5, 69.49,\n",
        "              69.73, 82.31, 68.99, 68.97, 65.83, 76.62, 66.45, 71.21, 82.28, 66.58,\n",
        "              70.25, 67.57, 81.05, 78.4, 76.27, 82.92, 75.65, 84.17, 80.01, 65.87,\n",
        "              79.04, 71.28, 79.65, 81.48, 77.98, 78.81, 73.07, 67.54, 70.38, 83.24,\n",
        "              72.32, 66.83, 74.05, 65.54, 71.2, 74.48, 75.96, 80.83, 81.62, 71.24,\n",
        "              75.27, 79.74, 80.01, 80.4, 80.47, 74.24, 80.62, 83.71, 83.27, 81.79,\n",
        "              73.94, 70.31, 70.79, 81.96, 81.89, 82.81, 78.16, 70.23, 69.79, 67.53,\n",
        "              71.48, 81.26, 77.37, 76.16, 68.73, 80.72, 80.91, 76.32, 83.49, 80.16,\n",
        "              75.64, 84.08, 84.29, 82.58, 81.33, 68.29, 66.95, 72.99, 79.35, 73.36]\n",
        "\n",
        "# Defining the time range for historical data\n",
        "start_date = \"2021-11-23\"\n",
        "end_date = \"2024-11-23\"\n"
      ],
      "metadata": {
        "id": "3ffHU5IzyHvQ"
      },
      "execution_count": 24,
      "outputs": []
    },
    {
      "cell_type": "markdown",
      "source": [
        "## **Step 2: Initialize Metrics Containers**\n",
        "\n",
        "We initialize empty lists to store the calculated metrics for each ETF. These metrics include annualized returns, risk, momentum, ESG scores, and HH Index values.\n"
      ],
      "metadata": {
        "id": "S-VJBP5zyLVr"
      }
    },
    {
      "cell_type": "code",
      "source": [
        "# Initialize containers for metrics\n",
        "returns = []\n",
        "risks = []\n",
        "momentums = []\n",
        "hh_indices = []\n"
      ],
      "metadata": {
        "id": "AtPy0pyGyNIi"
      },
      "execution_count": 25,
      "outputs": []
    },
    {
      "cell_type": "markdown",
      "source": [
        "## **Step 3: Extract Data and Compute Metrics**\n",
        "\n",
        "For each ETF, we fetch historical price data using `yfinance` and compute the following metrics:\n",
        "- **Return**: Annualized mean of daily returns.\n",
        "- **Risk**: Annualized variance of daily returns.\n",
        "- **Momentum**: Ratio of short-term to long-term moving averages.\n",
        "- **HH Index**: Proxy for diversification, assuming equal allocation.\n",
        "- **ESG Score**: Predefined placeholder values.\n"
      ],
      "metadata": {
        "id": "0QczeSV5yOjN"
      }
    },
    {
      "cell_type": "code",
      "source": [
        "# Loop through each ETF\n",
        "for etf in etf_list:\n",
        "    ticker = yf.Ticker(etf)\n",
        "\n",
        "    try:\n",
        "        # Fetch historical data\n",
        "        data = ticker.history(start=start_date, end=end_date)\n",
        "\n",
        "        # Skip if no data is available\n",
        "        if data.empty:\n",
        "            print(f\"No data available for {etf}\")\n",
        "            returns.append(np.nan)\n",
        "            risks.append(np.nan)\n",
        "            momentums.append(np.nan)\n",
        "            hh_indices.append(np.nan)\n",
        "            continue\n",
        "\n",
        "        # Calculate daily returns\n",
        "        daily_returns = data['Close'].pct_change().dropna()\n",
        "\n",
        "        # Calculate annualized return\n",
        "        annual_return = daily_returns.mean() * 252  # 252 trading days in a year\n",
        "        returns.append(annual_return)\n",
        "\n",
        "        # Calculate annualized risk (variance)\n",
        "        annual_variance = daily_returns.var() * 252\n",
        "        risks.append(annual_variance)\n",
        "\n",
        "        # Calculate momentum (short-term vs long-term moving average ratio)\n",
        "        if len(data) >= 60:  # Ensure there's enough data for the 60-day moving average\n",
        "            short_term_ma = data['Close'].rolling(window=20).mean().iloc[-1]\n",
        "            long_term_ma = data['Close'].rolling(window=60).mean().iloc[-1]\n",
        "            momentum = (short_term_ma / long_term_ma) - 1 if long_term_ma != 0 else np.nan\n",
        "        else:\n",
        "            momentum = np.nan\n",
        "        momentums.append(momentum)\n",
        "\n",
        "        # Calculate HH Index (placeholder for diversification)\n",
        "        hh_index = 1 / len(etf_list)  # Divide by the total number of ETFs\n",
        "        hh_indices.append(hh_index)\n",
        "\n",
        "    except Exception as e:\n",
        "        print(f\"Error processing ETF {etf}: {e}\")\n",
        "        returns.append(np.nan)\n",
        "        risks.append(np.nan)\n",
        "        momentums.append(np.nan)\n",
        "        hh_indices.append(np.nan)\n",
        "        continue  # Skip to the next ETF if an error occurs\n"
      ],
      "metadata": {
        "id": "UwkB00cGyQcm"
      },
      "execution_count": 26,
      "outputs": []
    },
    {
      "cell_type": "markdown",
      "source": [
        "## **Step 4: Create a DataFrame**\n",
        "\n",
        "We combine all computed metrics into a single DataFrame for further analysis and visualization.\n"
      ],
      "metadata": {
        "id": "VJu84Rz1ySBC"
      }
    },
    {
      "cell_type": "code",
      "source": [
        "# Create a DataFrame to consolidate the metrics\n",
        "etf_metrics = pd.DataFrame({\n",
        "    \"ETF\": etf_list[:len(returns)],\n",
        "    \"Return\": returns,\n",
        "    \"Risk\": risks,\n",
        "    \"Momentum\": momentums,\n",
        "    \"HH Index\": hh_indices,\n",
        "    \"ESG Score\": esg_scores[:len(returns)]\n",
        "})\n",
        "\n",
        "# Save the metrics to a CSV file\n",
        "etf_metrics.to_csv(\"etf_metrics.csv\", index=False)\n",
        "print(\"ETF metrics saved to 'etf_metrics.csv'\")\n",
        "etf_metrics.head()\n"
      ],
      "metadata": {
        "id": "XHbypE9CyTTQ",
        "colab": {
          "base_uri": "https://localhost:8080/",
          "height": 221
        },
        "outputId": "421c453e-9061-4de3-af4c-05d5f00d9c98"
      },
      "execution_count": 27,
      "outputs": [
        {
          "output_type": "stream",
          "name": "stdout",
          "text": [
            "ETF metrics saved to 'etf_metrics.csv'\n"
          ]
        },
        {
          "output_type": "execute_result",
          "data": {
            "text/plain": [
              "   ETF    Return      Risk  Momentum  HH Index  ESG Score\n",
              "0  SPY  0.110718  0.031167  0.022051      0.01      80.56\n",
              "1  IVV  0.111348  0.031169  0.022100      0.01      68.61\n",
              "2  VOO  0.111299  0.031044  0.022155      0.01      77.02\n",
              "3  QQQ  0.115623  0.056918  0.028222      0.01      79.66\n",
              "4  DIA  0.101786  0.022157  0.019916      0.01      78.42"
            ],
            "text/html": [
              "\n",
              "  <div id=\"df-682b802f-5b6b-435c-83c9-d5c3e4a3333d\" class=\"colab-df-container\">\n",
              "    <div>\n",
              "<style scoped>\n",
              "    .dataframe tbody tr th:only-of-type {\n",
              "        vertical-align: middle;\n",
              "    }\n",
              "\n",
              "    .dataframe tbody tr th {\n",
              "        vertical-align: top;\n",
              "    }\n",
              "\n",
              "    .dataframe thead th {\n",
              "        text-align: right;\n",
              "    }\n",
              "</style>\n",
              "<table border=\"1\" class=\"dataframe\">\n",
              "  <thead>\n",
              "    <tr style=\"text-align: right;\">\n",
              "      <th></th>\n",
              "      <th>ETF</th>\n",
              "      <th>Return</th>\n",
              "      <th>Risk</th>\n",
              "      <th>Momentum</th>\n",
              "      <th>HH Index</th>\n",
              "      <th>ESG Score</th>\n",
              "    </tr>\n",
              "  </thead>\n",
              "  <tbody>\n",
              "    <tr>\n",
              "      <th>0</th>\n",
              "      <td>SPY</td>\n",
              "      <td>0.110718</td>\n",
              "      <td>0.031167</td>\n",
              "      <td>0.022051</td>\n",
              "      <td>0.01</td>\n",
              "      <td>80.56</td>\n",
              "    </tr>\n",
              "    <tr>\n",
              "      <th>1</th>\n",
              "      <td>IVV</td>\n",
              "      <td>0.111348</td>\n",
              "      <td>0.031169</td>\n",
              "      <td>0.022100</td>\n",
              "      <td>0.01</td>\n",
              "      <td>68.61</td>\n",
              "    </tr>\n",
              "    <tr>\n",
              "      <th>2</th>\n",
              "      <td>VOO</td>\n",
              "      <td>0.111299</td>\n",
              "      <td>0.031044</td>\n",
              "      <td>0.022155</td>\n",
              "      <td>0.01</td>\n",
              "      <td>77.02</td>\n",
              "    </tr>\n",
              "    <tr>\n",
              "      <th>3</th>\n",
              "      <td>QQQ</td>\n",
              "      <td>0.115623</td>\n",
              "      <td>0.056918</td>\n",
              "      <td>0.028222</td>\n",
              "      <td>0.01</td>\n",
              "      <td>79.66</td>\n",
              "    </tr>\n",
              "    <tr>\n",
              "      <th>4</th>\n",
              "      <td>DIA</td>\n",
              "      <td>0.101786</td>\n",
              "      <td>0.022157</td>\n",
              "      <td>0.019916</td>\n",
              "      <td>0.01</td>\n",
              "      <td>78.42</td>\n",
              "    </tr>\n",
              "  </tbody>\n",
              "</table>\n",
              "</div>\n",
              "    <div class=\"colab-df-buttons\">\n",
              "\n",
              "  <div class=\"colab-df-container\">\n",
              "    <button class=\"colab-df-convert\" onclick=\"convertToInteractive('df-682b802f-5b6b-435c-83c9-d5c3e4a3333d')\"\n",
              "            title=\"Convert this dataframe to an interactive table.\"\n",
              "            style=\"display:none;\">\n",
              "\n",
              "  <svg xmlns=\"http://www.w3.org/2000/svg\" height=\"24px\" viewBox=\"0 -960 960 960\">\n",
              "    <path d=\"M120-120v-720h720v720H120Zm60-500h600v-160H180v160Zm220 220h160v-160H400v160Zm0 220h160v-160H400v160ZM180-400h160v-160H180v160Zm440 0h160v-160H620v160ZM180-180h160v-160H180v160Zm440 0h160v-160H620v160Z\"/>\n",
              "  </svg>\n",
              "    </button>\n",
              "\n",
              "  <style>\n",
              "    .colab-df-container {\n",
              "      display:flex;\n",
              "      gap: 12px;\n",
              "    }\n",
              "\n",
              "    .colab-df-convert {\n",
              "      background-color: #E8F0FE;\n",
              "      border: none;\n",
              "      border-radius: 50%;\n",
              "      cursor: pointer;\n",
              "      display: none;\n",
              "      fill: #1967D2;\n",
              "      height: 32px;\n",
              "      padding: 0 0 0 0;\n",
              "      width: 32px;\n",
              "    }\n",
              "\n",
              "    .colab-df-convert:hover {\n",
              "      background-color: #E2EBFA;\n",
              "      box-shadow: 0px 1px 2px rgba(60, 64, 67, 0.3), 0px 1px 3px 1px rgba(60, 64, 67, 0.15);\n",
              "      fill: #174EA6;\n",
              "    }\n",
              "\n",
              "    .colab-df-buttons div {\n",
              "      margin-bottom: 4px;\n",
              "    }\n",
              "\n",
              "    [theme=dark] .colab-df-convert {\n",
              "      background-color: #3B4455;\n",
              "      fill: #D2E3FC;\n",
              "    }\n",
              "\n",
              "    [theme=dark] .colab-df-convert:hover {\n",
              "      background-color: #434B5C;\n",
              "      box-shadow: 0px 1px 3px 1px rgba(0, 0, 0, 0.15);\n",
              "      filter: drop-shadow(0px 1px 2px rgba(0, 0, 0, 0.3));\n",
              "      fill: #FFFFFF;\n",
              "    }\n",
              "  </style>\n",
              "\n",
              "    <script>\n",
              "      const buttonEl =\n",
              "        document.querySelector('#df-682b802f-5b6b-435c-83c9-d5c3e4a3333d button.colab-df-convert');\n",
              "      buttonEl.style.display =\n",
              "        google.colab.kernel.accessAllowed ? 'block' : 'none';\n",
              "\n",
              "      async function convertToInteractive(key) {\n",
              "        const element = document.querySelector('#df-682b802f-5b6b-435c-83c9-d5c3e4a3333d');\n",
              "        const dataTable =\n",
              "          await google.colab.kernel.invokeFunction('convertToInteractive',\n",
              "                                                    [key], {});\n",
              "        if (!dataTable) return;\n",
              "\n",
              "        const docLinkHtml = 'Like what you see? Visit the ' +\n",
              "          '<a target=\"_blank\" href=https://colab.research.google.com/notebooks/data_table.ipynb>data table notebook</a>'\n",
              "          + ' to learn more about interactive tables.';\n",
              "        element.innerHTML = '';\n",
              "        dataTable['output_type'] = 'display_data';\n",
              "        await google.colab.output.renderOutput(dataTable, element);\n",
              "        const docLink = document.createElement('div');\n",
              "        docLink.innerHTML = docLinkHtml;\n",
              "        element.appendChild(docLink);\n",
              "      }\n",
              "    </script>\n",
              "  </div>\n",
              "\n",
              "\n",
              "<div id=\"df-1273d073-3e70-42d9-91ca-867948c14c47\">\n",
              "  <button class=\"colab-df-quickchart\" onclick=\"quickchart('df-1273d073-3e70-42d9-91ca-867948c14c47')\"\n",
              "            title=\"Suggest charts\"\n",
              "            style=\"display:none;\">\n",
              "\n",
              "<svg xmlns=\"http://www.w3.org/2000/svg\" height=\"24px\"viewBox=\"0 0 24 24\"\n",
              "     width=\"24px\">\n",
              "    <g>\n",
              "        <path d=\"M19 3H5c-1.1 0-2 .9-2 2v14c0 1.1.9 2 2 2h14c1.1 0 2-.9 2-2V5c0-1.1-.9-2-2-2zM9 17H7v-7h2v7zm4 0h-2V7h2v10zm4 0h-2v-4h2v4z\"/>\n",
              "    </g>\n",
              "</svg>\n",
              "  </button>\n",
              "\n",
              "<style>\n",
              "  .colab-df-quickchart {\n",
              "      --bg-color: #E8F0FE;\n",
              "      --fill-color: #1967D2;\n",
              "      --hover-bg-color: #E2EBFA;\n",
              "      --hover-fill-color: #174EA6;\n",
              "      --disabled-fill-color: #AAA;\n",
              "      --disabled-bg-color: #DDD;\n",
              "  }\n",
              "\n",
              "  [theme=dark] .colab-df-quickchart {\n",
              "      --bg-color: #3B4455;\n",
              "      --fill-color: #D2E3FC;\n",
              "      --hover-bg-color: #434B5C;\n",
              "      --hover-fill-color: #FFFFFF;\n",
              "      --disabled-bg-color: #3B4455;\n",
              "      --disabled-fill-color: #666;\n",
              "  }\n",
              "\n",
              "  .colab-df-quickchart {\n",
              "    background-color: var(--bg-color);\n",
              "    border: none;\n",
              "    border-radius: 50%;\n",
              "    cursor: pointer;\n",
              "    display: none;\n",
              "    fill: var(--fill-color);\n",
              "    height: 32px;\n",
              "    padding: 0;\n",
              "    width: 32px;\n",
              "  }\n",
              "\n",
              "  .colab-df-quickchart:hover {\n",
              "    background-color: var(--hover-bg-color);\n",
              "    box-shadow: 0 1px 2px rgba(60, 64, 67, 0.3), 0 1px 3px 1px rgba(60, 64, 67, 0.15);\n",
              "    fill: var(--button-hover-fill-color);\n",
              "  }\n",
              "\n",
              "  .colab-df-quickchart-complete:disabled,\n",
              "  .colab-df-quickchart-complete:disabled:hover {\n",
              "    background-color: var(--disabled-bg-color);\n",
              "    fill: var(--disabled-fill-color);\n",
              "    box-shadow: none;\n",
              "  }\n",
              "\n",
              "  .colab-df-spinner {\n",
              "    border: 2px solid var(--fill-color);\n",
              "    border-color: transparent;\n",
              "    border-bottom-color: var(--fill-color);\n",
              "    animation:\n",
              "      spin 1s steps(1) infinite;\n",
              "  }\n",
              "\n",
              "  @keyframes spin {\n",
              "    0% {\n",
              "      border-color: transparent;\n",
              "      border-bottom-color: var(--fill-color);\n",
              "      border-left-color: var(--fill-color);\n",
              "    }\n",
              "    20% {\n",
              "      border-color: transparent;\n",
              "      border-left-color: var(--fill-color);\n",
              "      border-top-color: var(--fill-color);\n",
              "    }\n",
              "    30% {\n",
              "      border-color: transparent;\n",
              "      border-left-color: var(--fill-color);\n",
              "      border-top-color: var(--fill-color);\n",
              "      border-right-color: var(--fill-color);\n",
              "    }\n",
              "    40% {\n",
              "      border-color: transparent;\n",
              "      border-right-color: var(--fill-color);\n",
              "      border-top-color: var(--fill-color);\n",
              "    }\n",
              "    60% {\n",
              "      border-color: transparent;\n",
              "      border-right-color: var(--fill-color);\n",
              "    }\n",
              "    80% {\n",
              "      border-color: transparent;\n",
              "      border-right-color: var(--fill-color);\n",
              "      border-bottom-color: var(--fill-color);\n",
              "    }\n",
              "    90% {\n",
              "      border-color: transparent;\n",
              "      border-bottom-color: var(--fill-color);\n",
              "    }\n",
              "  }\n",
              "</style>\n",
              "\n",
              "  <script>\n",
              "    async function quickchart(key) {\n",
              "      const quickchartButtonEl =\n",
              "        document.querySelector('#' + key + ' button');\n",
              "      quickchartButtonEl.disabled = true;  // To prevent multiple clicks.\n",
              "      quickchartButtonEl.classList.add('colab-df-spinner');\n",
              "      try {\n",
              "        const charts = await google.colab.kernel.invokeFunction(\n",
              "            'suggestCharts', [key], {});\n",
              "      } catch (error) {\n",
              "        console.error('Error during call to suggestCharts:', error);\n",
              "      }\n",
              "      quickchartButtonEl.classList.remove('colab-df-spinner');\n",
              "      quickchartButtonEl.classList.add('colab-df-quickchart-complete');\n",
              "    }\n",
              "    (() => {\n",
              "      let quickchartButtonEl =\n",
              "        document.querySelector('#df-1273d073-3e70-42d9-91ca-867948c14c47 button');\n",
              "      quickchartButtonEl.style.display =\n",
              "        google.colab.kernel.accessAllowed ? 'block' : 'none';\n",
              "    })();\n",
              "  </script>\n",
              "</div>\n",
              "\n",
              "    </div>\n",
              "  </div>\n"
            ],
            "application/vnd.google.colaboratory.intrinsic+json": {
              "type": "dataframe",
              "variable_name": "etf_metrics",
              "summary": "{\n  \"name\": \"etf_metrics\",\n  \"rows\": 100,\n  \"fields\": [\n    {\n      \"column\": \"ETF\",\n      \"properties\": {\n        \"dtype\": \"string\",\n        \"num_unique_values\": 99,\n        \"samples\": [\n          \"EFG\",\n          \"XLI\",\n          \"THD\"\n        ],\n        \"semantic_type\": \"\",\n        \"description\": \"\"\n      }\n    },\n    {\n      \"column\": \"Return\",\n      \"properties\": {\n        \"dtype\": \"number\",\n        \"std\": 0.09139494927974452,\n        \"min\": -0.4322290863094994,\n        \"max\": 0.31632555565473913,\n        \"num_unique_values\": 99,\n        \"samples\": [\n          -0.00423971199764901,\n          0.12991851451797373,\n          -0.020565419181125626\n        ],\n        \"semantic_type\": \"\",\n        \"description\": \"\"\n      }\n    },\n    {\n      \"column\": \"Risk\",\n      \"properties\": {\n        \"dtype\": \"number\",\n        \"std\": 0.04837534102039658,\n        \"min\": 0.0005455257912744791,\n        \"max\": 0.42929936865272833,\n        \"num_unique_values\": 99,\n        \"samples\": [\n          0.034793196343767284,\n          0.03026240868189399,\n          0.031661154464930515\n        ],\n        \"semantic_type\": \"\",\n        \"description\": \"\"\n      }\n    },\n    {\n      \"column\": \"Momentum\",\n      \"properties\": {\n        \"dtype\": \"number\",\n        \"std\": 0.02338759894942857,\n        \"min\": -0.05906656459532911,\n        \"max\": 0.0502220754927305,\n        \"num_unique_values\": 99,\n        \"samples\": [\n          -0.030028962321504427,\n          0.024635207174324547,\n          -0.025540201829990283\n        ],\n        \"semantic_type\": \"\",\n        \"description\": \"\"\n      }\n    },\n    {\n      \"column\": \"HH Index\",\n      \"properties\": {\n        \"dtype\": \"number\",\n        \"std\": 6.973850769498386e-18,\n        \"min\": 0.01,\n        \"max\": 0.01,\n        \"num_unique_values\": 1,\n        \"samples\": [\n          0.01\n        ],\n        \"semantic_type\": \"\",\n        \"description\": \"\"\n      }\n    },\n    {\n      \"column\": \"ESG Score\",\n      \"properties\": {\n        \"dtype\": \"number\",\n        \"std\": 5.671708519066589,\n        \"min\": 65.54,\n        \"max\": 84.29,\n        \"num_unique_values\": 99,\n        \"samples\": [\n          80.4\n        ],\n        \"semantic_type\": \"\",\n        \"description\": \"\"\n      }\n    }\n  ]\n}"
            }
          },
          "metadata": {},
          "execution_count": 27
        }
      ]
    },
    {
      "cell_type": "markdown",
      "source": [
        "## **Step 5: Normalize Metrics**\n",
        "\n",
        "We normalize each metric to ensure fair weight distribution and comparability. This step scales the values to a range of [0, 1], avoiding any metric disproportionately influencing the portfolio.\n"
      ],
      "metadata": {
        "id": "y0v-V_6ayxue"
      }
    },
    {
      "cell_type": "code",
      "source": [
        "# Function to handle normalization safely\n",
        "def safe_normalization(series):\n",
        "    max_value = series.max()\n",
        "    if max_value == 0 or max_value != max_value:  # Check if max is zero or NaN\n",
        "        return series  # Return unchanged if invalid\n",
        "    return series / max_value\n",
        "\n",
        "# Normalize the metrics\n",
        "etf_metrics[\"Return_norm\"] = safe_normalization(etf_metrics[\"Return\"])\n",
        "etf_metrics[\"Risk_norm\"] = safe_normalization(etf_metrics[\"Risk\"])\n",
        "etf_metrics[\"Momentum_norm\"] = safe_normalization(etf_metrics[\"Momentum\"])\n",
        "etf_metrics[\"ESG_norm\"] = safe_normalization(etf_metrics[\"ESG Score\"])\n",
        "etf_metrics[\"HH_norm\"] = safe_normalization(etf_metrics[\"HH Index\"])\n"
      ],
      "metadata": {
        "id": "lM_99Mh_yzo_"
      },
      "execution_count": 28,
      "outputs": []
    },
    {
      "cell_type": "markdown",
      "source": [
        "## **Step 6: Define the Portfolio Optimization Problem**\n",
        "\n",
        "We model the optimization problem as follows:\n",
        "- **Objective Function**: Maximize portfolio performance based on weighted metrics.\n",
        "- **Constraints**:\n",
        "    1. Sum of weights equals 1.\n",
        "    2. Risk stays below a defined threshold.\n",
        "    3. Momentum meets a minimum threshold.\n",
        "    4. ESG score meets a sustainability minimum.\n",
        "    5. Diversification is encouraged by bounding the HH Index.\n",
        "- **Decision Variables**: Asset weights, constrained between 0 and 1.\n"
      ],
      "metadata": {
        "id": "gul0pW-ny0Nw"
      }
    },
    {
      "cell_type": "code",
      "source": [
        "# Extract normalized metrics\n",
        "returns = etf_metrics[\"Return_norm\"].values\n",
        "risks = etf_metrics[\"Risk_norm\"].values\n",
        "momentum = etf_metrics[\"Momentum_norm\"].values\n",
        "esg_scores = etf_metrics[\"ESG_norm\"].values\n",
        "hh_scores = etf_metrics[\"HH_norm\"].values\n",
        "num_assets = len(etf_metrics)\n",
        "\n",
        "# Define coefficients for the objective function\n",
        "alpha, beta, gamma, delta, zeta = 0.5, 0.3, 0.1, 0.05, 0.05\n",
        "epsilon = 1e-6  # Regularization term\n",
        "\n",
        "# Objective function\n",
        "def objective_function(weights):\n",
        "    portfolio_return = np.dot(weights, returns)\n",
        "    portfolio_risk = np.dot(weights, risks)\n",
        "    portfolio_momentum = np.dot(weights, momentum)\n",
        "    portfolio_esg = np.dot(weights, esg_scores)\n",
        "    portfolio_hh = np.sum(weights ** 2)\n",
        "\n",
        "    return -(\n",
        "        alpha * portfolio_return\n",
        "        - beta * portfolio_risk\n",
        "        + gamma * portfolio_momentum\n",
        "        + delta * portfolio_esg\n",
        "        - zeta * portfolio_hh\n",
        "    ) + epsilon * np.sum(weights ** 2)\n",
        "\n",
        "# Constraints\n",
        "constraints = [\n",
        "    {\"type\": \"eq\", \"fun\": lambda w: np.sum(w) - 1},  # Sum of weights = 1\n",
        "    {\"type\": \"ineq\", \"fun\": lambda w: 0.05 - np.dot(w, risks)},  # Risk limit\n",
        "    {\"type\": \"ineq\", \"fun\": lambda w: np.dot(w, momentum) - 0.02},  # Momentum minimum\n",
        "    {\"type\": \"ineq\", \"fun\": lambda w: np.dot(w, esg_scores) - 0.5},  # ESG minimum\n",
        "    {\"type\": \"ineq\", \"fun\": lambda w: 0.15 - np.sum(w ** 2)},  # Diversification via HH Index\n",
        "]\n",
        "\n",
        "# Bounds for weights\n",
        "bounds = [(0, 1) for _ in range(num_assets)]\n",
        "\n",
        "# Initial guess for weights\n",
        "initial_weights = np.ones(num_assets) / num_assets\n"
      ],
      "metadata": {
        "id": "hHU-QwH8y2F1"
      },
      "execution_count": 29,
      "outputs": []
    },
    {
      "cell_type": "markdown",
      "source": [
        "## **Step 7: Solve the Optimization Problem**\n",
        "\n",
        "We solve the optimization problem using the `scipy.optimize.minimize` function with the `trust-constr` method, which is robust for handling constraints and bounds.\n"
      ],
      "metadata": {
        "id": "vii63X1wy6uf"
      }
    },
    {
      "cell_type": "code",
      "source": [
        "# Solve the optimization problem\n",
        "result = minimize(\n",
        "    objective_function,\n",
        "    initial_weights,\n",
        "    method=\"trust-constr\",\n",
        "    bounds=bounds,\n",
        "    constraints=constraints,\n",
        "    options={\"disp\": True, \"maxiter\": 5000}\n",
        ")\n",
        "\n",
        "# Check the optimization results\n",
        "if result.success:\n",
        "    optimized_weights = result.x\n",
        "    print(\"Optimization successful!\")\n",
        "else:\n",
        "    print(\"Optimization failed. Reason:\", result.message)\n"
      ],
      "metadata": {
        "id": "5HQd9NV6y8Hw",
        "colab": {
          "base_uri": "https://localhost:8080/"
        },
        "outputId": "24224a72-eba3-417b-e538-2d4737500c7c"
      },
      "execution_count": 30,
      "outputs": [
        {
          "output_type": "stream",
          "name": "stderr",
          "text": [
            "/usr/local/lib/python3.10/dist-packages/scipy/optimize/_differentiable_functions.py:504: UserWarning: delta_grad == 0.0. Check if the approximated function is linear. If the function is linear better results can be obtained by defining the Hessian as zero instead of using quasi-Newton approximations.\n",
            "  self.H.update(delta_x, delta_g)\n"
          ]
        },
        {
          "output_type": "stream",
          "name": "stdout",
          "text": [
            "`gtol` termination condition is satisfied.\n",
            "Number of iterations: 114, function evaluations: 12928, CG iterations: 298, optimality: 3.71e-09, constraint violation: 2.50e-13, execution time:  9.5 s.\n",
            "Optimization successful!\n"
          ]
        }
      ]
    },
    {
      "cell_type": "markdown",
      "source": [
        "## **Step 8: Evaluate the Optimized Portfolio**\n",
        "\n",
        "We calculate the final metrics for the optimized portfolio using the resulting weights and validate the solution.\n"
      ],
      "metadata": {
        "id": "hZ5KYgkUy-Oe"
      }
    },
    {
      "cell_type": "code",
      "source": [
        "# Calculate portfolio metrics\n",
        "portfolio_return = np.dot(optimized_weights, returns)\n",
        "portfolio_risk = np.dot(optimized_weights, risks)\n",
        "portfolio_momentum = np.dot(optimized_weights, momentum)\n",
        "portfolio_esg = np.dot(optimized_weights, esg_scores)\n",
        "portfolio_hh = np.sum(optimized_weights ** 2)\n",
        "\n",
        "print(\"Optimized Portfolio Metrics:\")\n",
        "print(f\"  Portfolio Return: {portfolio_return:.4f}\")\n",
        "print(f\"  Portfolio Risk: {portfolio_risk:.4f}\")\n",
        "print(f\"  Portfolio Momentum: {portfolio_momentum:.4f}\")\n",
        "print(f\"  Portfolio ESG: {portfolio_esg:.4f}\")\n",
        "print(f\"  Portfolio HH Index: {portfolio_hh:.4f}\")\n",
        "\n",
        "# Add the weights to the DataFrame\n",
        "etf_metrics[\"Weight\"] = optimized_weights\n",
        "etf_metrics.to_csv(\"optimized_portfolio.csv\", index=False)\n",
        "print(\"Optimized portfolio saved to 'optimized_portfolio.csv'\")\n"
      ],
      "metadata": {
        "id": "KCGqhUJsy_sB",
        "colab": {
          "base_uri": "https://localhost:8080/"
        },
        "outputId": "98b55523-f311-4b58-adbb-cbea9c2692b7"
      },
      "execution_count": 31,
      "outputs": [
        {
          "output_type": "stream",
          "name": "stdout",
          "text": [
            "Optimized Portfolio Metrics:\n",
            "  Portfolio Return: 0.4175\n",
            "  Portfolio Risk: 0.0500\n",
            "  Portfolio Momentum: 0.3512\n",
            "  Portfolio ESG: 0.9023\n",
            "  Portfolio HH Index: 0.1500\n",
            "Optimized portfolio saved to 'optimized_portfolio.csv'\n"
          ]
        }
      ]
    },
    {
      "cell_type": "markdown",
      "source": [
        "Factual metrics (unnormalized)"
      ],
      "metadata": {
        "id": "EXY_sv6q4hsH"
      }
    },
    {
      "cell_type": "code",
      "source": [
        "factual_return = np.dot(optimized_weights, etf_metrics[\"Return\"])\n",
        "factual_risk = np.dot(optimized_weights, etf_metrics[\"Risk\"])\n",
        "factual_momentum = np.dot(optimized_weights, etf_metrics[\"Momentum\"])\n",
        "factual_esg = np.dot(optimized_weights, etf_metrics[\"ESG Score\"])\n",
        "factual_hh = np.sum(optimized_weights ** 2)  # Herfindahl-Hirschman Index (diversification measure)\n",
        "\n",
        "# Calculate each part of the objective function with factual values\n",
        "return_part = alpha * factual_return\n",
        "risk_part = beta * factual_risk\n",
        "momentum_part = gamma * factual_momentum\n",
        "esg_part = delta * factual_esg\n",
        "hh_part = zeta * factual_hh\n",
        "\n",
        "# Compute the total objective function value with factual values\n",
        "total_objective_value = return_part - risk_part + momentum_part + esg_part - hh_part\n",
        "\n",
        "# Display results\n",
        "print(\"Factual Portfolio Metrics:\")\n",
        "print(f\"  Portfolio Return: {factual_return:.4f}\")\n",
        "print(f\"  Portfolio Risk: {factual_risk:.4f}\")\n",
        "print(f\"  Portfolio Momentum: {factual_momentum:.4f}\")\n",
        "print(f\"  Portfolio ESG Score: {factual_esg:.4f}\")\n",
        "print(f\"  Portfolio HH Index: {factual_hh:.4f}\")"
      ],
      "metadata": {
        "colab": {
          "base_uri": "https://localhost:8080/"
        },
        "id": "dVNQaND74oIA",
        "outputId": "6ba1effc-cec0-4855-8f07-f5a445ba9d85"
      },
      "execution_count": 35,
      "outputs": [
        {
          "output_type": "stream",
          "name": "stdout",
          "text": [
            "Factual Portfolio Metrics:\n",
            "  Portfolio Return: 0.1321\n",
            "  Portfolio Risk: 0.0215\n",
            "  Portfolio Momentum: 0.0176\n",
            "  Portfolio ESG Score: 76.0568\n",
            "  Portfolio HH Index: 0.1500\n"
          ]
        }
      ]
    },
    {
      "cell_type": "markdown",
      "source": [
        "## **Step 9: Visualization of Portfolio Weights**\n",
        "\n",
        "We visualize the allocation to each ETF, highlighting only the significant weights (greater than 0.001).\n"
      ],
      "metadata": {
        "id": "JU7Zz6RZzBR8"
      }
    },
    {
      "cell_type": "code",
      "source": [
        "# Filter ETFs with significant weights\n",
        "significant_etfs = etf_metrics[etf_metrics[\"Weight\"] > 0.001]\n",
        "\n",
        "# Scatter plot of weights\n",
        "plt.figure(figsize=(12, 6))\n",
        "plt.scatter(significant_etfs[\"ETF\"], significant_etfs[\"Weight\"] * 100, color=\"royalblue\", edgecolor=\"black\", s=100, alpha=0.7)\n",
        "plt.title(\"Portfolio Weights of ETFs\", fontsize=16, fontweight=\"bold\")\n",
        "plt.xlabel(\"ETF\", fontsize=14)\n",
        "plt.ylabel(\"Weight (%)\", fontsize=14)\n",
        "plt.xticks(rotation=45, ha=\"right\", fontsize=10)\n",
        "plt.grid(True, linestyle=\"--\", alpha=0.6)\n",
        "plt.tight_layout()\n",
        "plt.show()\n"
      ],
      "metadata": {
        "id": "ahvHvyvTzCh_",
        "colab": {
          "base_uri": "https://localhost:8080/",
          "height": 607
        },
        "outputId": "5d37aa04-3874-47c8-c00e-b8251fc41c6a"
      },
      "execution_count": 36,
      "outputs": [
        {
          "output_type": "display_data",
          "data": {
            "text/plain": [
              "<Figure size 1200x600 with 1 Axes>"
            ],
            "image/png": "[encoded data removed]"
          },
          "metadata": {}
        }
      ]
    },
    {
      "cell_type": "markdown",
      "source": [
        "## **Step 10: Conclusion**\n",
        "\n",
        "An ETF portfolio has been optimized for the highest returns given risks, momentum, ESG, and diversification constraints. The major pointers include the following:\n",
        "1. **Diverse Portfolio**: We ensured weights across multiple ETFs to reduce risk.\n",
        "2. **Sustainability Focus**: The portfolio achieved a very high ESG score.\n",
        "3. **Tailored Model**: The portfolio can be adapted to various clients' preferences by adjusting the values of the coefficients.\n",
        "4. **Major Allocation**: Only the ETFs that have remarkable weights will go towards the portfolio.\n",
        "\n",
        "Further this model can be altered by modifying constraints and weights to accommodate different investor preferences like higher risk-taking or ESG portfolio preferences."
      ],
      "metadata": {
        "id": "KMjKWoMGzEZS"
      }
    },
    {
      "cell_type": "markdown",
      "source": [
        "# Credits\n",
        "\n",
        "This project was conceptualized, developed, and implemented by **Mohamed ZOUAD**. This project thus performed with integration of theoretical knowledge through practical applications on Python programming, focused on ETFs and multi-objective optimization.\n",
        "\n",
        "The key contributions of the project include:\n",
        "- Data extraction and processing via the `yfinance` library.\n",
        "- Calculation and normalization of key financial metrics such as return, risk, momentum, ESG scores, and diversification indices.\n",
        "• Designed a strong optimization model that allows constraints and objective functions to be tuned according to various client preferences. The work will involve end-to-end implementation: from data gathering through optimization, visualization, and reporting.\n",
        "I could have resolved the problem without the use of scipy library by implementing gradient descent algorithm, although it would give less performant results.\n",
        "\n",
        "For any questions or potential collaboration, please engage with me at **mohamed.zouad@dauphine.eu**."
      ],
      "metadata": {
        "id": "c-0vW9eS6itW"
      }
    }
  ]
}